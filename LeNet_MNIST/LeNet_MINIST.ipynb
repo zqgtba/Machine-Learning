{
 "cells": [
  {
   "cell_type": "code",
   "execution_count": 53,
   "id": "266aee0a",
   "metadata": {},
   "outputs": [],
   "source": [
    "import torch\n",
    "import torch.nn as nn\n",
    "import torch.optim as optim\n",
    "import torchvision\n",
    "from torchvision import datasets, transforms\n",
    "from skorch import NeuralNetClassifier\n",
    "from sklearn.model_selection import GridSearchCV"
   ]
  },
  {
   "cell_type": "code",
   "execution_count": 54,
   "id": "fc311fe8",
   "metadata": {},
   "outputs": [],
   "source": [
    "class LeNet(nn.Module): \n",
    "    def __init__(self): \n",
    "        super(LeNet, self).__init__() \n",
    "        self.conv1 = nn.Sequential( \n",
    "            nn.Conv2d(1, 6, 5), \n",
    "            nn.LeakyReLU(),  \n",
    "            nn.MaxPool2d(kernel_size=2, stride=2)\n",
    "        ) \n",
    "        self.conv2 = nn.Sequential( \n",
    "            nn.Conv2d(6, 16, 5), \n",
    "            nn.LeakyReLU(), \n",
    "            nn.MaxPool2d(2, 2)\n",
    "        )\n",
    "        self.flat = nn.Flatten()\n",
    "        self.fc1 = nn.Sequential(nn.Linear(16*4*4, 120), nn.LeakyReLU())\n",
    "        self.fc2 = nn.Sequential(nn.Linear(120, 84), nn.LeakyReLU()) \n",
    "        self.fc3 = nn.Linear(84, 10) \n",
    "\n",
    "    def forward(self, x):\n",
    "        x = self.conv1(x)\n",
    "        x = self.conv2(x)\n",
    "        x = self.flat(x)\n",
    "        x = self.fc1(x)\n",
    "        x = self.fc2(x)\n",
    "        x = self.fc3(x)\n",
    "        return x"
   ]
  },
  {
   "cell_type": "code",
   "execution_count": 55,
   "id": "c6e90878",
   "metadata": {},
   "outputs": [],
   "source": [
    "# 定义全局变量\n",
    "n_epochs = 10\n",
    "batch_size = 20\n",
    "device = torch.device('cuda' if torch.cuda.is_available() else 'cpu')\n",
    "# 加载数据\n",
    "train_data = datasets.MNIST(root='./data', train=True, download=True, transform=transforms.ToTensor())\n",
    "test_data = datasets.MNIST(root='./data', train=True, download=True, transform=transforms.ToTensor())\n",
    "# 创建加载器\n",
    "train_loader = torch.utils.data.DataLoader(train_data, batch_size = batch_size, num_workers = 8)\n",
    "test_loader = torch.utils.data.DataLoader(test_data, batch_size = batch_size, num_workers = 8)\n",
    "# 加载另一种数据\n",
    "train_loader_all = torch.utils.data.DataLoader(train_data, batch_size = 60000, num_workers = 8)\n",
    "test_loader_all = torch.utils.data.DataLoader(test_data, batch_size = 60000, num_workers = 8)\n",
    "for images, labels in train_loader_all:\n",
    "    X_train, y_train = images, labels\n",
    "for images, labels in test_loader_all:\n",
    "    X_test, y_test = images, labels"
   ]
  },
  {
   "cell_type": "code",
   "execution_count": 56,
   "id": "b64e8865",
   "metadata": {},
   "outputs": [],
   "source": [
    "def test(model):\n",
    "    correct = 0\n",
    "    total = 0\n",
    "    with torch.no_grad(): # 训练集中不需要反向传播\n",
    "        for images, labels in test_loader:\n",
    "            images = images.to(device)\n",
    "            labels = labels.to(device)\n",
    "            outputs = model(images)\n",
    "            _, predicted = torch.max(outputs.data, dim=1)\n",
    "            total += labels.size(0)\n",
    "            correct += (predicted == labels).sum().item()\n",
    "    print('Accuracy of the network on the test images: %4f %%' % (100 * correct / total))\n",
    "    return 100.0 * correct / total"
   ]
  },
  {
   "cell_type": "code",
   "execution_count": 57,
   "id": "5f43899e",
   "metadata": {},
   "outputs": [],
   "source": [
    "def train(model):\n",
    "    # 定义损失函数和优化器\n",
    "    lossfunc = nn.CrossEntropyLoss()\n",
    "    optimizer = optim.SGD(params = model.parameters(), lr = 0.01)\n",
    "    # 开始训练\n",
    "    for epoch in range(n_epochs):\n",
    "        train_loss = 0.0\n",
    "        for data,target in train_loader:\n",
    "            data = data.to(device)\n",
    "            target = target.to(device)\n",
    "            optimizer.zero_grad() # 清空上一步的残余更新参数值\n",
    "            output = model(data) # 得到预测值\n",
    "            loss = lossfunc(output,target) # 计算两者的误差\n",
    "            loss.backward() # 误差反向传播, 计算参数更新值\n",
    "            optimizer.step() # 将参数更新值施加到 net 的 parameters 上\n",
    "            train_loss += loss.item()*data.size(0)\n",
    "        train_loss = train_loss / len(train_loader.dataset)\n",
    "        print('Epoch: {} \\tTraining Loss: {:.6f}'.format(epoch + 1, train_loss))\n",
    "        # torch.save(model.state_dict(), f'./weights/bs_20/epoch{epoch + 1}.pth')\n",
    "        test(model)\n"
   ]
  },
  {
   "cell_type": "code",
   "execution_count": 58,
   "id": "3834f60c",
   "metadata": {},
   "outputs": [
    {
     "name": "stdout",
     "output_type": "stream",
     "text": [
      "Epoch: 1 \tTraining Loss: 0.954719\n",
      "Accuracy of the network on the test images: 92.766667 %\n",
      "Epoch: 2 \tTraining Loss: 0.137310\n",
      "Accuracy of the network on the test images: 95.763333 %\n",
      "Epoch: 3 \tTraining Loss: 0.091964\n",
      "Accuracy of the network on the test images: 96.521667 %\n",
      "Epoch: 4 \tTraining Loss: 0.073282\n",
      "Accuracy of the network on the test images: 97.130000 %\n",
      "Epoch: 5 \tTraining Loss: 0.061657\n",
      "Accuracy of the network on the test images: 97.615000 %\n",
      "Epoch: 6 \tTraining Loss: 0.053668\n",
      "Accuracy of the network on the test images: 97.781667 %\n",
      "Epoch: 7 \tTraining Loss: 0.047546\n",
      "Accuracy of the network on the test images: 97.950000 %\n",
      "Epoch: 8 \tTraining Loss: 0.042694\n",
      "Accuracy of the network on the test images: 98.038333 %\n",
      "Epoch: 9 \tTraining Loss: 0.038549\n",
      "Accuracy of the network on the test images: 98.283333 %\n",
      "Epoch: 10 \tTraining Loss: 0.034993\n",
      "Accuracy of the network on the test images: 98.460000 %\n"
     ]
    }
   ],
   "source": [
    "# 网络实例化\n",
    "model = LeNet().to(device)\n",
    "# 开始训练\n",
    "if __name__ == '__main__':\n",
    "    train(model)"
   ]
  },
  {
   "cell_type": "code",
   "execution_count": 51,
   "id": "264139c4",
   "metadata": {},
   "outputs": [],
   "source": [
    "def train_CV_1(model):\n",
    "    model_CV = NeuralNetClassifier(\n",
    "                model,\n",
    "                criterion=nn.CrossEntropyLoss,\n",
    "                optimizer=optim.SGD,\n",
    "                verbose=False\n",
    "            )\n",
    "    param_grid = {\n",
    "            'batch_size': [10, 20, 40],\n",
    "            'max_epochs': [10, 15, 20]\n",
    "            }\n",
    "    grid = GridSearchCV(estimator=model_CV, param_grid=param_grid, n_jobs=-1, cv=3)\n",
    "    grid_result = grid.fit(X_train, y_train)\n",
    "    print(\"Best: %f using %s\" % (grid_result.best_score_, grid_result.best_params_))\n",
    "    print(\"Test: %f\" % grid.score(X_test, y_test))"
   ]
  },
  {
   "cell_type": "code",
   "execution_count": 52,
   "id": "cdf3b3eb",
   "metadata": {},
   "outputs": [
    {
     "name": "stdout",
     "output_type": "stream",
     "text": [
      "Best: 0.982333 using {'batch_size': 10, 'max_epochs': 20}\n",
      "Test: 0.991567\n"
     ]
    }
   ],
   "source": [
    "# 网络实例化\n",
    "model = LeNet().to(device)\n",
    "# 开始训练\n",
    "if __name__ == '__main__':\n",
    "    # train(model)\n",
    "    train_CV_1(model)"
   ]
  },
  {
   "cell_type": "code",
   "execution_count": 60,
   "id": "0975c240",
   "metadata": {},
   "outputs": [],
   "source": [
    "def train_CV_2(model):\n",
    "    model_CV = NeuralNetClassifier(\n",
    "                model,\n",
    "                criterion=nn.CrossEntropyLoss,\n",
    "                optimizer=optim.SGD,\n",
    "                batch_size=10,\n",
    "                max_epochs=20,\n",
    "                verbose=False\n",
    "            )\n",
    "    param_grid = {\n",
    "            'optimizer__lr': [0.001, 0.005, 0.01, 0.02],\n",
    "            'optimizer__momentum': [0.0, 0.2, 0.4, 0.8],\n",
    "            }\n",
    "    grid = GridSearchCV(estimator=model_CV, param_grid=param_grid, n_jobs=-1, cv=3)\n",
    "    grid_result = grid.fit(X_train, y_train)\n",
    "    print(\"Best: %f using %s\" % (grid_result.best_score_, grid_result.best_params_))\n",
    "    print(\"Test: %f\" % grid.score(X_test, y_test))"
   ]
  },
  {
   "cell_type": "code",
   "execution_count": 61,
   "id": "8e3b053f",
   "metadata": {},
   "outputs": [
    {
     "name": "stdout",
     "output_type": "stream",
     "text": [
      "Best: 0.984300 using {'optimizer__lr': 0.01, 'optimizer__momentum': 0.8}\n",
      "Test: 0.994917\n"
     ]
    }
   ],
   "source": [
    "# 网络实例化\n",
    "model = LeNet().to(device)\n",
    "# 开始训练\n",
    "if __name__ == '__main__':\n",
    "    # train(model)\n",
    "    train_CV_2(model)"
   ]
  },
  {
   "attachments": {},
   "cell_type": "markdown",
   "id": "e4ef05f5",
   "metadata": {},
   "source": [
    "# "
   ]
  }
 ],
 "metadata": {
  "kernelspec": {
   "display_name": "Python 3 (ipykernel)",
   "language": "python",
   "name": "python3"
  },
  "language_info": {
   "codemirror_mode": {
    "name": "ipython",
    "version": 3
   },
   "file_extension": ".py",
   "mimetype": "text/x-python",
   "name": "python",
   "nbconvert_exporter": "python",
   "pygments_lexer": "ipython3",
   "version": "3.7.0"
  }
 },
 "nbformat": 4,
 "nbformat_minor": 5
}
